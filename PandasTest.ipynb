{
 "cells": [
  {
   "attachments": {},
   "cell_type": "markdown",
   "id": "d1c42d9d",
   "metadata": {},
   "source": [
    "# Pandas Test\n",
    "# John Walter\n"
   ]
  },
  {
   "cell_type": "code",
   "execution_count": null,
   "id": "62ecbb28",
   "metadata": {},
   "outputs": [],
   "source": [
    "# import pandas library\n",
    "import pandas as pd\n",
    "# Read the online file by the URL provides above, and assign it to variable \"df\"\n",
    "other_path = \"https://archive.ics.uci.edu/ml/machine-learning-databases/autos/imports-85.data\"\n",
    "df = pd.read_csv(other_path, header=None)\n",
    "# Check the bottom 10 rows of data frame \"df\".\n",
    "print(\"The bottom 10 rows of the dataframe\")\n",
    "df.tail(10)"
   ]
  },
  {
   "cell_type": "code",
   "execution_count": null,
   "id": "ab1e36c7",
   "metadata": {},
   "outputs": [],
   "source": [
    "# create headers list\n",
    "headers = [\"symboling\",\"normalized-losses\",\"make\",\"fuel-type\",\"aspiration\", \"num-ofdoors\",\"body-style\", \"drive-wheels\",\"engine-location\",\"wheel-base\",\n",
    "\"length\",\"width\",\"height\",\"curb-weight\",\"engine-type\", \"num-of-cylinders\", \"engine-size\",\"fuelsystem\",\"bore\",\"stroke\",\"compression-ratio\",\"horsepower\", \"peak-rpm\",\"city-mpg\",\"highway-mpg\",\"price\"]\n",
    "print(\"headers\\n\", headers)\n",
    "\n",
    "df.columns = headers\n",
    "df.head(10)\n",
    "\n",
    "df.dropna(subset=[\"price\"], axis=0)"
   ]
  },
  {
   "cell_type": "code",
   "execution_count": null,
   "id": "1f7c3cd6",
   "metadata": {},
   "outputs": [],
   "source": [
    "#Assign value to the column headers\n",
    "column_headers = list(df.columns.values)\n",
    "# Find the name of the columns of the dataframe\n",
    "print(\"The column headers are :\", column_headers)"
   ]
  },
  {
   "cell_type": "code",
   "execution_count": null,
   "id": "7979f18b",
   "metadata": {},
   "outputs": [],
   "source": [
    "# Apply the method \".describe()\" to the columns 'length' and 'compression-ratio'.\n",
    "\n",
    "df[['length','compression-ratio']].describe()"
   ]
  },
  {
   "cell_type": "code",
   "execution_count": null,
   "id": "7e8868f2",
   "metadata": {},
   "outputs": [],
   "source": [
    "import numpy as np\n",
    "# replace \"?\" to NaN\n",
    "df.replace(\"?\", np.nan, inplace = True)\n",
    "\n",
    "# Replace NaN in \"stroke\" column by mean.\n",
    "avg_stroke_loss = df[\"stroke\"].astype(\"float\").mean(axis=0)\n",
    "print(\"Average of strokes:\", avg_stroke_loss)\n"
   ]
  },
  {
   "cell_type": "code",
   "execution_count": null,
   "id": "726756ad",
   "metadata": {},
   "outputs": [],
   "source": [
    "# Transform mpg to L/100km in the column of \"highway-mpg\", \n",
    "# and change the name of column to \"highway-L/100km\".\n",
    "df['highway-L/100km'] = 235/df[\"highway-mpg\"]\n",
    "df.head()"
   ]
  },
  {
   "cell_type": "code",
   "execution_count": null,
   "id": "a82df35e",
   "metadata": {},
   "outputs": [],
   "source": [
    "# Normalize the column \"height\".\n",
    "df['height'] = df['height']/df['height'].max()\n",
    "df['height']"
   ]
  },
  {
   "cell_type": "code",
   "execution_count": 155,
   "id": "8c9edfb1",
   "metadata": {},
   "outputs": [],
   "source": [
    "# Create indicator variable to the column of \"aspiration\": \"std\" to 1, while\n",
    "# \"turbo\" to 0. Change the column names for clarity.\n",
    "df.columns\n",
    "#get indicator variables and assign it to data frame \"dummy_variable_1\"\n",
    "dummy_variable_1 = pd.get_dummies(df[\"aspiration\"])\n",
    "dummy_variable_1.head()\n",
    "#change column names for clarity\n",
    "dummy_variable_1.rename(columns={'aspiration-type-std':'std', 'fuel-type-turbo':'turbo'},\n",
    "inplace=True)\n",
    "dummy_variable_1.head()\n",
    "\n",
    "# QMerge the new dataframe to the original dataframe then drop the column 'aspiration'\n",
    "df = pd.concat([df, dummy_variable_1], axis=1)\n",
    "# drop original column \"aspiration\" from \"df\"\n",
    "df.drop(\"aspiration\", axis = 1, inplace=True)\n",
    "df.head()\n",
    "df.to_csv('clean_df.csv')"
   ]
  },
  {
   "cell_type": "code",
   "execution_count": null,
   "id": "7b1e3c80",
   "metadata": {},
   "outputs": [],
   "source": [
    "#Import libraries\n",
    "import pandas as pd\n",
    "import numpy as np\n",
    "#load data and store in dataframe df: (Use the cleaned csv file stored previously)\n",
    "path='data_path'\n",
    "df = pd.read_csv('clean_df.csv')\n",
    "df.head()"
   ]
  },
  {
   "cell_type": "code",
   "execution_count": null,
   "id": "75b0125b",
   "metadata": {},
   "outputs": [],
   "source": [
    "%%capture\n",
    "! pip install seaborn\n",
    "import matplotlib.pyplot as plt\n",
    "import seaborn as sns\n",
    "%matplotlib inline"
   ]
  },
  {
   "cell_type": "code",
   "execution_count": null,
   "id": "98583fee",
   "metadata": {},
   "outputs": [],
   "source": [
    "# Find the data type of the column \"peak-rpm\"?\n",
    "# object\n",
    "print(df[['peak-rpm']].dtypes)"
   ]
  },
  {
   "cell_type": "code",
   "execution_count": null,
   "id": "39e1ad1c",
   "metadata": {},
   "outputs": [],
   "source": [
    "# Find the correlation between the following columns: bore, stroke, compression-ratio, and horsepower.\n",
    "print(df[['bore','stroke','compression-ratio','horsepower']].corr)"
   ]
  },
  {
   "cell_type": "code",
   "execution_count": null,
   "id": "33315a7f",
   "metadata": {},
   "outputs": [],
   "source": [
    "# Find the correlation between x=\"stroke\", y=\"price\".\n",
    "print(df[['stroke','price']].corr)"
   ]
  },
  {
   "cell_type": "code",
   "execution_count": null,
   "id": "e59af82e",
   "metadata": {},
   "outputs": [],
   "source": [
    "\n",
    "#Verify the correlation results between \"price\" and \"stroke\" using the function \"regplot()\".\n",
    "sns.regplot(x= 'stroke', y= 'price', data=df)"
   ]
  },
  {
   "cell_type": "code",
   "execution_count": null,
   "id": "88b85f3f",
   "metadata": {},
   "outputs": [],
   "source": [
    "df['body-style'].unique()"
   ]
  },
  {
   "cell_type": "code",
   "execution_count": null,
   "id": "56734379",
   "metadata": {},
   "outputs": [],
   "source": [
    "df_group_one = df[['body-style','price']]\n",
    "df_group_one"
   ]
  },
  {
   "cell_type": "code",
   "execution_count": null,
   "id": "ba3c0d0c",
   "metadata": {},
   "outputs": [],
   "source": [
    "# Use the \"groupby\" function to find the average \"price\" of each car based on \"body-style\"\n",
    "df_group_one = df_group_one.groupby(['body-style'],as_index=False).mean()\n",
    "df_group_one"
   ]
  }
 ],
 "metadata": {
  "kernelspec": {
   "display_name": "Python 3 (ipykernel)",
   "language": "python",
   "name": "python3"
  },
  "language_info": {
   "codemirror_mode": {
    "name": "ipython",
    "version": 3
   },
   "file_extension": ".py",
   "mimetype": "text/x-python",
   "name": "python",
   "nbconvert_exporter": "python",
   "pygments_lexer": "ipython3",
   "version": "3.9.12"
  }
 },
 "nbformat": 4,
 "nbformat_minor": 5
}
